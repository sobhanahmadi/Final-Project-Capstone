{
 "cells": [
  {
   "cell_type": "markdown",
   "metadata": {},
   "source": [
    "## 2. Data Acquisition and Cleaning\n",
    "\n",
    " 1. Data Sources\n",
    " \n",
    "The following Wikipedia page is used to get information about neighborhoods in Toronto: https://en.wikipedia.org/wiki/List_of_postal_codes_of_Canada:_M. This defines the scope of this project, which is the city of Toronto in Canada.\n",
    "Also, we use the following CSV file to extract the geographical coordinates of different postal codes (neighborhoods): http://cocl.us/Geospatial_data. This is required to get the venue data and plot the map.\n",
    "Finally, we request the venue data for each neighborhood from the Foursquare API. This data is used to execute clustering on the neighborhoods.\n",
    "\n",
    " 2. Data Cleaning\n",
    "\n",
    "We combine the data downloaded from multiple sources into one table. After transforming the data into the Pandas data frame, we ignore the rows with ‘Not assigned’ label in the Borough column. Then we merge the neighborhoods with the same postal code. Finally, if a neighborhood has ‘Not assigned’ name, we consider the name of their borough as their neighborhood’s name.\n",
    "\n",
    " 3. Feature Selection\n",
    " \n",
    "After all the merging and cleaning data that we mentioned above, we consider postal code, borough, neighborhood’s name, latitude, and longitude of each neighborhood as shown in the following table (there are 103 rows and five columns). Note that in the methodology section, we will discuss how to consider and insert different events for each neighborhood as a new data frame.\n",
    " "
   ]
  },
  {
   "cell_type": "code",
   "execution_count": null,
   "metadata": {},
   "outputs": [],
   "source": []
  }
 ],
 "metadata": {
  "kernelspec": {
   "display_name": "Python",
   "language": "python",
   "name": "conda-env-python-py"
  },
  "language_info": {
   "codemirror_mode": {
    "name": "ipython",
    "version": 3
   },
   "file_extension": ".py",
   "mimetype": "text/x-python",
   "name": "python",
   "nbconvert_exporter": "python",
   "pygments_lexer": "ipython3",
   "version": "3.6.10"
  }
 },
 "nbformat": 4,
 "nbformat_minor": 4
}
