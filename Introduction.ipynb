{
 "cells": [
  {
   "cell_type": "code",
   "execution_count": null,
   "metadata": {},
   "outputs": [],
   "source": [
    "## 1. Introduction\n",
    "\n",
    " 1. Background\n",
    "\n",
    "Toronto,  with 2,731,571  population in 2016, is the capital of Ontario Province, the most populous city in Canada, and the fourth largest populous city in North America. Toronto is one of the most multicultural cities in the world and recognized as an international center of arts, business, finance, and culture. As Toronto is a significant destination for Canada’s immigrants, its population is very diverse. There are more than 200 distinct ethnic origins among people who live in this city. While the primary language is English, over 160 languages are spoken in the city. Each year over 43 million tourists visit Toronto. \n",
    "Toronto contains a geographical area previously administered by different municipalities. These municipalities have each created a unique history and identity over the years, and their names still are used by people. Former municipalities include East York, Swansea, Forest Hill, Mimico, North York, Scarborough, Etobicoke, Parkdale, Weston and York. Toronto consists of hundreds of small and large neighborhoods. \n",
    " \n",
    " 2. Problem Definition\n",
    " \n",
    "In this project, we want to explore the neighborhoods in Toronto and group them into similar and dissimilar clusters. There can be many factors to consider some regions similar, including the facilities, events, restaurants, parks, schools, etc. in each neighborhood.\n",
    " \n",
    " 3. Interest\n",
    "\n",
    "This study can be interesting for those who want to live temporary or for a long period in Toronto including new residents, tourists, and people who want to change their neighborhood.  Imagine that someone wants to live a new neighborhood (whether they are tourists or Toronto residents), it is important for them to know their new neighborhood and compare it to their previous or desired districts. Hence, this project will help them to know every area in Toronto and choose their new and favorite neighborhood.\n"
   ]
  }
 ],
 "metadata": {
  "kernelspec": {
   "display_name": "Python",
   "language": "python",
   "name": "conda-env-python-py"
  },
  "language_info": {
   "codemirror_mode": {
    "name": "ipython",
    "version": 3
   },
   "file_extension": ".py",
   "mimetype": "text/x-python",
   "name": "python",
   "nbconvert_exporter": "python",
   "pygments_lexer": "ipython3",
   "version": "3.6.10"
  }
 },
 "nbformat": 4,
 "nbformat_minor": 4
}
